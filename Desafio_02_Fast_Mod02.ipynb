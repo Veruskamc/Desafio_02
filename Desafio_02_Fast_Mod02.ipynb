{
  "nbformat": 4,
  "nbformat_minor": 0,
  "metadata": {
    "colab": {
      "provenance": [],
      "authorship_tag": "ABX9TyPFAo+T/8j4yWehZ11qJ3N8",
      "include_colab_link": true
    },
    "kernelspec": {
      "name": "python3",
      "display_name": "Python 3"
    },
    "language_info": {
      "name": "python"
    }
  },
  "cells": [
    {
      "cell_type": "markdown",
      "metadata": {
        "id": "view-in-github",
        "colab_type": "text"
      },
      "source": [
        "<a href=\"https://colab.research.google.com/github/Veruskamc/Desafio_02/blob/main/Desafio_02_Fast_Mod02.ipynb\" target=\"_parent\"><img src=\"https://colab.research.google.com/assets/colab-badge.svg\" alt=\"Open In Colab\"/></a>"
      ]
    },
    {
      "cell_type": "markdown",
      "source": [
        "# **Desafios**- Fast Transição\n",
        "## Desafio 2\n",
        "\n",
        "Responda às seguintes perguntas:\n",
        "\n",
        "1. Calcule e exiba o número total de pessoas vacinadas.\n",
        "2. Qual foi a cidade que tomou mais dose da vacina CORONAVAC - SINOVAC (BUTANTAN) ?\n",
        "3. Crie uma nova coluna chamada ‘’tipo_faixa_etaria”, onde deverá conter os seguintes valores:\n",
        "\n",
        " - Crianças: 3 a 12 anos\n",
        " - Adolescentes: 13 a 19 anos\n",
        " - Jovens adultos: 20 a 39 anos\n",
        " - Adultos de meia-idade: 40 a 59 anos\n",
        " - Idosos: 60 anos ou mais\n",
        "\n",
        "4. Crie uma nova coluna chamada ‘’regiao”, onde deverá conter valores:\n",
        " - Metropolitana: Recife, Olinda, Jaboatão dos Guararapes, Paulista, Camaragibe, São Lourenço da Mata, Abreu e Lima, Igarassu, Cabo de Santo Agostinho\n",
        " - Interior: Cidades que não estão inclusas em Metropolitana\n",
        "\n",
        "5. Conte quantas pessoas receberam a vacina para cada cada  ’regiao” e cada ‘’tipo_faixa_etaria”\n",
        "6. Determine a idade média das pessoas vacinadas para  cada  ’regiao” e cada ‘’tipo_faixa_etaria”\n",
        "7. Identifique e exiba o tipo de vacina mais administrado para cada  ’regiao” e cada ‘’tipo_faixa_etaria”\n",
        "8. Qual é a proporção de homens e mulheres vacinados para  ’regiao” e cada ‘’tipo_faixa_etaria”?\n",
        "Lembre-se que para algumas colunas possa ser necessário realizar limpeza ou tratamento dos dados!\n",
        "\n",
        "Além dos dados de 2021, adicione também dados do Perfil das Pessoas Vacinadas de 2022 e 2023.\n",
        "\n",
        "Link: http://dados.recife.pe.gov.br/dataset/7ccb3816-0d62-49e1-b39a-3159870883b0/resource/99b42b09-95af-47de-8411-ab99c380c3ef/download/vacinados.csv\n",
        "\n",
        "\n",
        "perfil-das-pessoas-vacinadas-covid-19\n",
        "\n",
        ""
      ],
      "metadata": {
        "id": "JB9MUjPpCLVo"
      }
    },
    {
      "cell_type": "code",
      "source": [
        "import pandas as pd"
      ],
      "metadata": {
        "id": "n4gr_gJXEaSp"
      },
      "execution_count": 3,
      "outputs": []
    },
    {
      "cell_type": "code",
      "source": [
        "#\n",
        "url = ' http://dados.recife.pe.gov.br/dataset/7ccb3816-0d62-49e1-b39a-3159870883b0/resource/99b42b09-95af-47de-8411-ab99c380c3ef/download/vacinados.csv'"
      ],
      "metadata": {
        "id": "3OB4rSCOEg0i"
      },
      "execution_count": 4,
      "outputs": []
    },
    {
      "cell_type": "code",
      "source": [
        "#\n",
        "df = pd.read_csv(url, sep= ';', encoding= 'utf-8')"
      ],
      "metadata": {
        "colab": {
          "base_uri": "https://localhost:8080/"
        },
        "id": "H6h-shv2EyJl",
        "outputId": "00d5693f-7688-480a-b0e7-7e38a9aac992"
      },
      "execution_count": 5,
      "outputs": [
        {
          "output_type": "stream",
          "name": "stderr",
          "text": [
            "<ipython-input-5-526bfa1d9af2>:2: DtypeWarning: Columns (1) have mixed types. Specify dtype option on import or set low_memory=False.\n",
            "  df = pd.read_csv(url, sep= ';', encoding= 'utf-8')\n"
          ]
        }
      ]
    },
    {
      "cell_type": "code",
      "source": [
        "# inspecionando\n",
        "df.head()"
      ],
      "metadata": {
        "id": "SPaLdEQAFuIx"
      },
      "execution_count": null,
      "outputs": []
    },
    {
      "cell_type": "code",
      "source": [
        "df.shape"
      ],
      "metadata": {
        "id": "Je7LwVmFKDzR"
      },
      "execution_count": null,
      "outputs": []
    },
    {
      "cell_type": "code",
      "source": [
        "df.columns"
      ],
      "metadata": {
        "id": "UiShbNixKYNG"
      },
      "execution_count": null,
      "outputs": []
    },
    {
      "cell_type": "code",
      "source": [
        "df.dtypes"
      ],
      "metadata": {
        "id": "Bi6crDjoKeHB"
      },
      "execution_count": null,
      "outputs": []
    },
    {
      "cell_type": "code",
      "source": [
        "df.describe()"
      ],
      "metadata": {
        "id": "HWCMKNJbKgFD"
      },
      "execution_count": null,
      "outputs": []
    },
    {
      "cell_type": "code",
      "source": [
        "df.info()"
      ],
      "metadata": {
        "id": "fhSM8autKsx-"
      },
      "execution_count": null,
      "outputs": []
    },
    {
      "cell_type": "markdown",
      "source": [
        "Total de vacinados:"
      ],
      "metadata": {
        "id": "K2JHkympK-bM"
      }
    },
    {
      "cell_type": "code",
      "source": [
        "total_pessoas_vacinadas = len(df)"
      ],
      "metadata": {
        "id": "N9gAEhSzK9nK"
      },
      "execution_count": 10,
      "outputs": []
    },
    {
      "cell_type": "code",
      "source": [
        "print('Número total de pessoas vacinadas :',total_pessoas_vacinadas)"
      ],
      "metadata": {
        "colab": {
          "base_uri": "https://localhost:8080/"
        },
        "id": "lQXwLmwJLkF_",
        "outputId": "0ece1572-7b93-4fd4-b6b0-fbcffe0fd40e"
      },
      "execution_count": 12,
      "outputs": [
        {
          "output_type": "stream",
          "name": "stdout",
          "text": [
            "Número total de pessoas vacinadas : 3041498\n"
          ]
        }
      ]
    },
    {
      "cell_type": "markdown",
      "source": [
        "Cidade que tomou mais doses da vacina CORONAVAC - SINOVAC (BUTANTAN):"
      ],
      "metadata": {
        "id": "jXoIsRnZMKeu"
      }
    },
    {
      "cell_type": "code",
      "source": [
        "municipio_mais_doses_coronavac = df[df['vacina_fabricante'] == '1 - CORONAVAC - SINOVAC (BUTANTAN)']['municipio'].value_counts().idxmax()"
      ],
      "metadata": {
        "id": "-0W-M8zxMGGN"
      },
      "execution_count": 13,
      "outputs": []
    },
    {
      "cell_type": "code",
      "source": [
        "print('Cidade que tomou mais doses da vacina CORONAVAC - SINOVAC (BUTANTAN): ', municipio_mais_doses_coronavac)"
      ],
      "metadata": {
        "colab": {
          "base_uri": "https://localhost:8080/"
        },
        "id": "FhiQ9MqWOFUB",
        "outputId": "2fc80a2a-5bdf-43a4-9de9-019874028115"
      },
      "execution_count": 15,
      "outputs": [
        {
          "output_type": "stream",
          "name": "stdout",
          "text": [
            "Cidade que tomou mais doses da vacina CORONAVAC - SINOVAC (BUTANTAN):  RECIFE\n"
          ]
        }
      ]
    },
    {
      "cell_type": "markdown",
      "source": [
        "Criar nova coluna \"tipo_faixa_etaria\""
      ],
      "metadata": {
        "id": "ZnJ8gpTmOpxq"
      }
    },
    {
      "cell_type": "code",
      "source": [
        "df['idade'] = pd.to_numeric(df['idade'], errors='coerce', downcast='integer')"
      ],
      "metadata": {
        "id": "AZ3durifR3Ry"
      },
      "execution_count": 21,
      "outputs": []
    },
    {
      "cell_type": "code",
      "source": [
        "def col_tipo_faixa_etaria(idade):\n",
        "    if idade >= 60:\n",
        "        return \"Idosos\"\n",
        "    elif idade >= 40:\n",
        "        return \"Adultos de meia idade\"\n",
        "    elif idade >= 20:\n",
        "        return \"Jovens Adultos\"\n",
        "    elif idade >= 13:\n",
        "        return \"Adolescentes\"\n",
        "    elif idade >= 3:\n",
        "        return \"Crianças\"\n",
        "    else:\n",
        "        return \"Indefinido\"\n",
        "\n",
        "df[\"tipo_faixa_etaria\"] = df['idade'].apply(lambda x:  col_tipo_faixa_etaria(x))\n",
        "df.head(5)"
      ],
      "metadata": {
        "id": "ZOBLZVcnRIyW"
      },
      "execution_count": null,
      "outputs": []
    },
    {
      "cell_type": "markdown",
      "source": [
        "Criar coluna \"região\""
      ],
      "metadata": {
        "id": "ihKZ-m1ZSw_L"
      }
    },
    {
      "cell_type": "code",
      "source": [
        "def Regiao(municipio):\n",
        "    metropolitanas = ['RECIFE', 'JABOATAO DOS GUARARAPES','OLINDA', 'PAULISTA', 'CAMARAGIBE', 'SAO LOURENCO DA MATA', 'ABREU E LIMA', 'IGARASSU', 'CABO DE SANTO AGOSTINHO']\n",
        "\n",
        "    if municipio in metropolitanas:\n",
        "        return 'METROPOLITANA'\n",
        "    else:\n",
        "        return 'INTERIOR'\n",
        "\n",
        "df['regiao'] = df['municipio'].apply(lambda x: Regiao(x))\n",
        "df.head()"
      ],
      "metadata": {
        "id": "FnQNpDY0So-u"
      },
      "execution_count": null,
      "outputs": []
    },
    {
      "cell_type": "markdown",
      "source": [
        "Quantas pessoas receberam vacina em cada região:"
      ],
      "metadata": {
        "id": "oaUoKpwzV-f4"
      }
    },
    {
      "cell_type": "code",
      "source": [
        "df[['regiao', 'tipo_faixa_etaria']].groupby('regiao')['tipo_faixa_etaria'].value_counts()\n",
        ""
      ],
      "metadata": {
        "id": "e46N6qsHWDzO"
      },
      "execution_count": null,
      "outputs": []
    },
    {
      "cell_type": "markdown",
      "source": [
        "Média de pessoas vacinadas por região e faixa etária:"
      ],
      "metadata": {
        "id": "oopDRqCwWKGi"
      }
    },
    {
      "cell_type": "code",
      "source": [
        "df.groupby(['regiao', 'tipo_faixa_etaria'])['idade'].mean().reset_index(name='idade_media')"
      ],
      "metadata": {
        "id": "qczzoH2dWSyc"
      },
      "execution_count": null,
      "outputs": []
    },
    {
      "cell_type": "markdown",
      "source": [
        "Vacina mais administrada por região e faixa etária:"
      ],
      "metadata": {
        "id": "szP7ATQsWrIA"
      }
    },
    {
      "cell_type": "code",
      "source": [
        "df.groupby(['regiao'])[['tipo_faixa_etaria', 'vacina_fabricante' ]].value_counts()\n",
        ""
      ],
      "metadata": {
        "id": "Pilts6GvW5bD"
      },
      "execution_count": null,
      "outputs": []
    },
    {
      "cell_type": "markdown",
      "source": [
        "Proporção de homens e mulheres vacinados por região e faixa etária:"
      ],
      "metadata": {
        "id": "HxhpId1zXJia"
      }
    },
    {
      "cell_type": "code",
      "source": [
        "df.groupby(['regiao', 'tipo_faixa_etaria'])['sexo'].value_counts()"
      ],
      "metadata": {
        "id": "IS0VWeaMXXvW"
      },
      "execution_count": null,
      "outputs": []
    }
  ]
}